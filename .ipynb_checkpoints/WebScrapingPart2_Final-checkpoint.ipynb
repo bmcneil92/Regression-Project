{
 "cells": [
  {
   "cell_type": "code",
   "execution_count": null,
   "metadata": {},
   "outputs": [],
   "source": [
    "from sqlalchemy import create_engine\n",
    "import pandas as pd\n",
    "from bs4 import BeautifulSoup\n",
    "import requests\n",
    "import time, os\n",
    "from selenium import webdriver\n",
    "from selenium.webdriver.common.keys import Keys\n",
    "from selenium.webdriver.chrome.options import Options\n",
    "\n",
    "\n",
    "engine = create_engine(\"sqlite:///regression_database.db\")\n",
    "\n",
    "chrome_options = Options()\n",
    "chrome_options.add_argument(\"user-data-dir=selenium\") \n",
    "\n",
    "sql = \"\"\"select DISTINCT *\n",
    "FROM\n",
    " (\n",
    "     select book_title\n",
    "    from goodreads_best_book_titles\n",
    "     union ALL\n",
    "    select book_title\n",
    "     from goodreads_worst_book_titles\n",
    " );\"\"\"\n",
    "\n",
    "df_books = pd.read_sql(sql, engine)\n",
    "\n"
   ]
  },
  {
   "cell_type": "code",
   "execution_count": null,
   "metadata": {},
   "outputs": [],
   "source": [
    "### Setting up definitions\n",
    "\n",
    "def genere_pull(tag, class_search): #soup.find_all('a', class_=\"actionLinkLite bookPageGenreLink\")\n",
    "    test = soup.find(tag, class_=class_search)\n",
    "    if test is not None:\n",
    "        for i, x in enumerate(soup.find_all(tag, class_=class_search), 1):\n",
    "            if i == 1:\n",
    "                genre_1 = x.text\n",
    "    else:\n",
    "        genre_1 = None \n",
    "    return genre_1\n",
    "\n",
    "\n",
    "def char_counter(tag, class_search, id_search): #soup.find('div', class_=\"uitext\", id=\"bookDataBox\").find_all('a')\n",
    "    char_count = 0\n",
    "    if soup.find(tag, class_=class_search, id=id_search) is not None:\n",
    "        for x in soup.find(tag, class_=class_search, id=id_search).find_all('a'):\n",
    "            if '/characters/' in x['href']:\n",
    "                char_count += 1\n",
    "            else:\n",
    "                continue\n",
    "    else:\n",
    "        char_count = 0\n",
    "    return str(char_count)\n",
    "\n",
    "\n",
    "def series_y_n(soup_series):\n",
    "    return soup_series != None\n",
    "\n",
    "def awards_y_n(soup_awards):\n",
    "    return soup_awards != None\n",
    "\n",
    "\n",
    "def rating_reveiws(tag, class_search, href_search): #soup.find_all('a', class_=\"gr-hyperlink\", href='#other_reviews')\n",
    "    if soup.find(tag, class_=class_search, href=href_search) is not None:\n",
    "        ratings_reviews = [x.text.replace('\\n', \"\").strip() for x in soup.find_all(tag, class_=class_search, href=href_search)]\n",
    "        for i, x in enumerate(ratings_reviews):\n",
    "            if i == 0:\n",
    "                ratings = x\n",
    "            elif i == 1:\n",
    "                reviews = x\n",
    "            else:\n",
    "                continue\n",
    "    else:\n",
    "        ratings = \"no rate\"\n",
    "        reviews = \"no review\"\n",
    "    return ratings.replace(\" ratings\", \"\").strip(), reviews.replace(\" reviews\", \"\").strip()\n",
    "\n",
    "\n"
   ]
  },
  {
   "cell_type": "code",
   "execution_count": null,
   "metadata": {
    "scrolled": true
   },
   "outputs": [],
   "source": [
    "base_url = 'https://www.goodreads.com'\n",
    "\n",
    "\n",
    "loop_counter = 1\n",
    "\n",
    "while len(df_books['book_title']) > loop_counter:\n",
    "    for i, x in enumerate(df_books['book_title']):\n",
    "        try:\n",
    "            book_url = base_url+x\n",
    "            response = requests.get(book_url)\n",
    "            page = response.text\n",
    "            soup = BeautifulSoup(page, 'html.parser')\n",
    "            book_cover_type = soup.find('div', id=\"details\", class_=\"uitext\").find_all('span')[:3][0].text\n",
    "            num_of_pages = soup.find('span', itemprop=\"numberOfPages\").text.replace(\" pages\", \"\").strip()\n",
    "            book_user_rating = soup.find('span', itemprop=\"ratingValue\").text.replace('\\n', \"\").strip()\n",
    "            title = soup.find('h1').text.replace('\\n', \"\").strip()\n",
    "            language = soup.find('div', class_='infoBoxRowItem', itemprop=\"inLanguage\").text\n",
    "            series = series_y_n(soup.find('div', class_=\"infoBoxRowTitle\", text =\"Series\"))\n",
    "            awards = series_y_n(soup.find('div', class_=\"infoBoxRowTitle\", text =\"Literary Awards\"))\n",
    "            char_counters = char_counter('div', \"uitext\", \"bookDataBox\")\n",
    "            user_rate, written_reviews = rating_reveiws('a', \"gr-hyperlink\", '#other_reviews')\n",
    "            genre_one, genre_two, genre_three = genere_pull('a', \"actionLinkLite bookPageGenreLink\")\n",
    "\n",
    "\n",
    "            headers = ['book_cover_type', \n",
    "                       'num_of_pages', 'book_user_rating',\n",
    "                      'title', 'language', 'is_series', 'won_awards', 'num_of_chars', \n",
    "                       'num_user_rate', 'num_written_reviews', 'genre_1', 'genre_2', 'genre_3']\n",
    "\n",
    "            book_dict = dict(zip(headers, [book_cover_type,\n",
    "                                            num_of_pages, \n",
    "                                            book_user_rating,\n",
    "                                           title,\n",
    "                                           language,\n",
    "                                           series,\n",
    "                                           awards,\n",
    "                                          char_counters,\n",
    "                                          user_rate.replace(\",\", \"\"),\n",
    "                                          written_reviews.replace(\",\", \"\"),\n",
    "                                          genre_one,\n",
    "                                          genre_two,\n",
    "                                          genre_three]))\n",
    "            book_data.append(book_dict)\n",
    "            loop_counter += 1\n",
    "        except AttributeError:\n",
    "            print(f\"{x}, {i} did not pass test\")\n",
    "            continue\n",
    "        print(f\"{x}, {i} title completed\")\n"
   ]
  },
  {
   "cell_type": "code",
   "execution_count": null,
   "metadata": {},
   "outputs": [],
   "source": [
    "book_data\n",
    "df_book_data_output = pd.DataFrame(book_data)  #convert list of dict to df\n"
   ]
  },
  {
   "cell_type": "code",
   "execution_count": null,
   "metadata": {},
   "outputs": [],
   "source": [
    "df_book_data_output.head()"
   ]
  },
  {
   "cell_type": "code",
   "execution_count": null,
   "metadata": {},
   "outputs": [],
   "source": [
    "### save to SQLLite DB to save information\n",
    "\n",
    "from sqlalchemy import create_engine\n",
    "engine = create_engine(\"sqlite:///regression_database.db\")\n",
    "sqlite_connection = engine.connect()\n",
    "sqlite_table = \"tbl_book_data_output\"\n",
    "df_book_data_output.to_sql(sqlite_table, sqlite_connection, if_exists='fail')"
   ]
  },
  {
   "cell_type": "code",
   "execution_count": null,
   "metadata": {},
   "outputs": [],
   "source": [
    "### Save to CSV for good measures\n",
    "df_book_data_output.to_csv('goodreads_webscrapping_output.csv')"
   ]
  },
  {
   "cell_type": "code",
   "execution_count": null,
   "metadata": {},
   "outputs": [],
   "source": []
  },
  {
   "cell_type": "code",
   "execution_count": null,
   "metadata": {},
   "outputs": [],
   "source": []
  },
  {
   "cell_type": "code",
   "execution_count": null,
   "metadata": {},
   "outputs": [],
   "source": []
  },
  {
   "cell_type": "code",
   "execution_count": null,
   "metadata": {},
   "outputs": [],
   "source": []
  },
  {
   "cell_type": "code",
   "execution_count": null,
   "metadata": {},
   "outputs": [],
   "source": []
  },
  {
   "cell_type": "code",
   "execution_count": null,
   "metadata": {},
   "outputs": [],
   "source": []
  },
  {
   "cell_type": "code",
   "execution_count": null,
   "metadata": {},
   "outputs": [],
   "source": []
  },
  {
   "cell_type": "code",
   "execution_count": null,
   "metadata": {},
   "outputs": [],
   "source": []
  },
  {
   "cell_type": "code",
   "execution_count": null,
   "metadata": {},
   "outputs": [],
   "source": []
  }
 ],
 "metadata": {
  "kernelspec": {
   "display_name": "Python 3",
   "language": "python",
   "name": "python3"
  },
  "language_info": {
   "codemirror_mode": {
    "name": "ipython",
    "version": 3
   },
   "file_extension": ".py",
   "mimetype": "text/x-python",
   "name": "python",
   "nbconvert_exporter": "python",
   "pygments_lexer": "ipython3",
   "version": "3.8.5"
  }
 },
 "nbformat": 4,
 "nbformat_minor": 4
}
